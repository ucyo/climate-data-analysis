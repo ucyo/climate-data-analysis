{
 "cells": [
  {
   "cell_type": "code",
   "execution_count": null,
   "metadata": {
    "collapsed": true
   },
   "outputs": [],
   "source": [
    "import pandas as pd\n",
    "from matplotlib import pyplot as plt\n",
    "%matplotlib inline"
   ]
  },
  {
   "cell_type": "markdown",
   "metadata": {},
   "source": [
    "# Mean: Time, abscissa: Level"
   ]
  },
  {
   "cell_type": "code",
   "execution_count": null,
   "metadata": {
    "collapsed": true
   },
   "outputs": [],
   "source": [
    "# fig, ax = plt.subplots(1, 3, sharey=True, figsize=(15,5))\n",
    "# for i,data in enumerate(['10h.nc', 'daily.nc', 'monthly.nc']):\n",
    "#     df = pd.read_csv('{}.time.lev.mi.csv'.format(data), index_col=0)\n",
    "#     df.rolling(window=1).mean().plot(ax=ax.flat[i], legend=False)\n",
    "#     ax.flat[i].invert_xaxis()\n",
    "#     if data == \"10h.nc\":\n",
    "#         data = \"hourly.nc\"\n",
    "#     ax.flat[i].set_xlabel(data[:-3], fontsize=16)\n",
    "# ax.flat[2].legend()\n",
    "# ax.flat[0].set_ylabel(\"Mutual Information\", fontsize=16)\n",
    "# # plt.suptitle(\"Mutual Information of climate variables\", fontsize=20, y=1.03)\n",
    "# plt.tight_layout()\n",
    "# plt.savefig('../Figures/analysis/mutual-information.svg')\n",
    "# plt.show()"
   ]
  },
  {
   "cell_type": "code",
   "execution_count": null,
   "metadata": {
    "collapsed": true
   },
   "outputs": [],
   "source": [
    "# fig, ax = plt.subplots(1, 3, sharey=True, figsize=(15,5))\n",
    "# for i,data in enumerate(['10h.nc', 'daily.nc', 'monthly.nc']):\n",
    "#     df = pd.read_csv('{}.time.lev.mi.csv'.format(data), index_col=0)\n",
    "#     df.rolling(window=4).mean().plot(ax=ax.flat[i], legend=False)\n",
    "#     ax.flat[i].invert_xaxis()\n",
    "#     if data == \"10h.nc\":\n",
    "#         data = \"hourly.nc\"\n",
    "#     ax.flat[i].set_xlabel(data[:-3], fontsize=16)\n",
    "# ax.flat[2].legend()\n",
    "# ax.flat[0].set_ylabel(\"Mutual Information\", fontsize=16)\n",
    "# # plt.suptitle(\"Mutual Information of climate variables\", fontsize=20, y=1.03)\n",
    "# plt.tight_layout()\n",
    "# plt.savefig('../Figures/analysis/mutual-information-mean-4.svg')\n",
    "# plt.show()"
   ]
  },
  {
   "cell_type": "code",
   "execution_count": null,
   "metadata": {},
   "outputs": [],
   "source": [
    "fig, ax = plt.subplots(1, 3, sharey=True, figsize=(15,5))\n",
    "for i,data in enumerate(['10h.nc', 'daily.nc', 'monthly.nc']):\n",
    "    df = pd.read_csv('{}.time.lev.nmi.csv'.format(data), index_col=0)\n",
    "    df.rolling(window=1).mean().plot(ax=ax.flat[i], legend=False)\n",
    "    ax.flat[i].invert_xaxis()\n",
    "    if data == \"10h.nc\":\n",
    "        data = \"hourly.nc\"\n",
    "    ax.flat[i].set_xlabel(data[:-3], fontsize=16)\n",
    "ax.flat[2].legend()\n",
    "ax.flat[0].set_ylabel(\"Mutual Information\", fontsize=16)\n",
    "# plt.suptitle(\"Mutual Information of climate variables\", fontsize=20, y=1.03)\n",
    "plt.tight_layout()\n",
    "plt.savefig('../Figures/analysis/noramlized-mutual-information.svg')\n",
    "plt.show()"
   ]
  },
  {
   "cell_type": "code",
   "execution_count": null,
   "metadata": {
    "collapsed": true
   },
   "outputs": [],
   "source": [
    "def change_name(name):\n",
    "    mapping = dict(tm1='Temperature', qm1='Specific Humidity', vm1='Meridional Wind', um1='Zonal Wind')\n",
    "    one,two = name.split('x')\n",
    "    one = mapping[one]\n",
    "    two = mapping[two]\n",
    "    return \"{} & {}\".format(one,two)"
   ]
  },
  {
   "cell_type": "code",
   "execution_count": null,
   "metadata": {},
   "outputs": [],
   "source": [
    "fig, ax = plt.subplots(1, 3, sharey=True, figsize=(15,5))\n",
    "for i,data in enumerate(['10h.nc', 'daily.nc', 'monthly.nc']):\n",
    "    df = pd.read_csv('{}.time.lev.nmi.csv'.format(data), index_col=0)\n",
    "    df.columns = [change_name(x) for x in df.columns]\n",
    "    df.rolling(window=4).mean().plot(ax=ax.flat[i], legend=False)\n",
    "    ax.flat[i].invert_xaxis()\n",
    "    if data == \"10h.nc\":\n",
    "        data = \"hourly.nc\"\n",
    "    ax.flat[i].set_title(data[:-3], fontsize=16)\n",
    "    ax.flat[i].set_xlabel('Altitude level', fontsize=15)\n",
    "ax.flat[2].legend()\n",
    "ax.flat[0].set_ylabel(\"Normalized Mutual Information\", fontsize=16)\n",
    "# plt.suptitle(\"Mutual Information of climate variables\", fontsize=20, y=1.03)\n",
    "plt.tight_layout()\n",
    "plt.savefig('../Figures/analysis/normalized-mutual-information-along-level-mean-4.svg')\n",
    "plt.show()"
   ]
  },
  {
   "cell_type": "markdown",
   "metadata": {},
   "source": [
    "# Mean: Level, abscissa: Time"
   ]
  },
  {
   "cell_type": "code",
   "execution_count": null,
   "metadata": {
    "collapsed": true
   },
   "outputs": [],
   "source": [
    "import xarray as xr\n",
    "import matplotlib.ticker as ticker\n",
    "from matplotlib.dates import DateFormatter\n",
    "from matplotlib.ticker import AutoMinorLocator, MultipleLocator\n",
    "%matplotlib inline"
   ]
  },
  {
   "cell_type": "code",
   "execution_count": null,
   "metadata": {},
   "outputs": [],
   "source": [
    "fig, ax = plt.subplots(1, 3, sharey=True, figsize=(15,5))\n",
    "for i,data in enumerate(['10h.nc', 'daily.nc', 'monthly.nc']):\n",
    "# for i,data in enumerate(['monthly.nc']):\n",
    "    df = pd.read_csv('{}.lev.time.nmi.csv'.format(data), index_col=0)\n",
    "    df.columns = [change_name(x) for x in df.columns]\n",
    "    df.index = xr.open_dataset(data).time.values\n",
    "    df.rolling(window=2).mean().plot(ax=ax.flat[i], legend=False)\n",
    "#     ax.flat[i].invert_xaxis()\n",
    "    if data == \"10h.nc\":\n",
    "        data = \"hourly.nc\"\n",
    "    ax.flat[i].set_title(data[:-3], fontsize=16)\n",
    "    ax.flat[i].set_xlabel('Time', fontsize=15)\n",
    "    if i == 2:\n",
    "        ax.flat[i].xaxis.set_major_locator(plt.NullLocator())\n",
    "        ax.flat[i].xaxis.set_minor_locator(plt.NullLocator())\n",
    "        date_range = df.index.map(lambda t: t.strftime('%Y'))\n",
    "        ax.flat[i].set_xticks([x for x in df.index][12::12])\n",
    "        ax.flat[i].set_xticklabels(date_range[12::12], ha='center')\n",
    "    if i == 1:\n",
    "        ax.flat[i].xaxis.set_major_locator(plt.NullLocator())\n",
    "        ax.flat[i].xaxis.set_minor_locator(plt.NullLocator())\n",
    "        date_range = df.index.map(lambda t: t.strftime('%m-%d'))\n",
    "        ax.flat[i].set_xticks([x for x in df.index][40::30])\n",
    "        ax.flat[i].set_xticklabels(date_range[40::30], ha='center')\n",
    "    if i == 0:\n",
    "        ax.flat[i].xaxis.set_minor_locator(plt.NullLocator())\n",
    "        date_range = df.index.map(lambda t: t.strftime('%m-%d'))\n",
    "        ax.flat[i].set_xticks([x for x in df.index][::10])\n",
    "        ax.flat[i].set_xticklabels(date_range[::10])\n",
    "ax.flat[0].legend()\n",
    "ax.flat[0].set_ylabel(\"Normalized Mutual Information\", fontsize=16)\n",
    "plt.tight_layout()\n",
    "plt.savefig('../Figures/analysis/normalized-mutual-information-along-time-mean-2.svg')\n",
    "plt.show()"
   ]
  },
  {
   "cell_type": "code",
   "execution_count": null,
   "metadata": {
    "collapsed": true
   },
   "outputs": [],
   "source": []
  }
 ],
 "metadata": {
  "kernelspec": {
   "display_name": "Python 3",
   "language": "python",
   "name": "python3"
  },
  "language_info": {
   "codemirror_mode": {
    "name": "ipython",
    "version": 3
   },
   "file_extension": ".py",
   "mimetype": "text/x-python",
   "name": "python",
   "nbconvert_exporter": "python",
   "pygments_lexer": "ipython3",
   "version": "3.6.2"
  }
 },
 "nbformat": 4,
 "nbformat_minor": 2
}
