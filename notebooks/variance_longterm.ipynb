{
 "cells": [
  {
   "cell_type": "code",
   "execution_count": null,
   "metadata": {
    "collapsed": true
   },
   "outputs": [],
   "source": [
    "import xarray as xr\n",
    "from collections import namedtuple\n",
    "from itertools import combinations, combinations_with_replacement, product\n",
    "from matplotlib import pyplot as plt"
   ]
  },
  {
   "cell_type": "code",
   "execution_count": null,
   "metadata": {},
   "outputs": [],
   "source": [
    "%matplotlib inline\n",
    "import matplotlib as mpl\n",
    "mpl.rcParams['figure.figsize']=(10,10)\n",
    "nc = namedtuple('File', 'ds dims mean')\n",
    "xr.open_dataset('../../finite/geo/RC1SD-base-08_ECHAM5_2000-2013_variable_by_lat_over_lev.nc')"
   ]
  },
  {
   "cell_type": "code",
   "execution_count": null,
   "metadata": {
    "collapsed": true
   },
   "outputs": [],
   "source": [
    "from typing import NamedTuple\n",
    "import pandas as pd\n",
    "\n",
    "class Distr(NamedTuple):\n",
    "    var: str\n",
    "    along: str\n",
    "    over: str\n",
    "    data: pd.DataFrame\n",
    "    \n",
    "    def __hash__(self):\n",
    "        return '{var}{along}{over}'.format(var=self.var,\n",
    "                                               along=self.along,\n",
    "                                               over=self.over).__hash__()\n",
    "    def __eq__(self, other):\n",
    "        return hash(self) == hash(other)"
   ]
  },
  {
   "cell_type": "code",
   "execution_count": null,
   "metadata": {
    "collapsed": true
   },
   "outputs": [],
   "source": [
    "ncfiles = [\n",
    "    nc(ds=xr.open_dataset('../../finite/geo/RC1SD-base-08_ECHAM5_2000-2013_variable_by_lat_over_lon.nc'),\n",
    "         dims=['lat', 'lon', 'month'],\n",
    "      mean='lev'),\n",
    "    nc(ds=xr.open_dataset('../../finite/geo/RC1SD-base-08_ECHAM5_2000-2013_variable_by_lat_over_lev.nc'),\n",
    "         dims=['lat', 'lev', 'month'],\n",
    "      mean='lon'),\n",
    "    nc(ds=xr.open_dataset('../../finite/geo/RC1SD-base-08_ECHAM5_2000-2013_variable_by_lon_over_lev.nc'),\n",
    "         dims=['lev', 'lon', 'month'],\n",
    "      mean='lat'),\n",
    "]"
   ]
  },
  {
   "cell_type": "code",
   "execution_count": null,
   "metadata": {
    "collapsed": true
   },
   "outputs": [],
   "source": [
    "ncfiles[0].ds"
   ]
  },
  {
   "cell_type": "code",
   "execution_count": null,
   "metadata": {
    "collapsed": true,
    "scrolled": false
   },
   "outputs": [],
   "source": [
    "results = []\n",
    "for file in ncfiles:\n",
    "    for var in file.ds.data_vars:\n",
    "        for mean2, group in product(file.dims,file.dims):\n",
    "            if mean2 == group:\n",
    "                continue\n",
    "            over = [x for x in file.dims if x not in [mean2, group]][0]\n",
    "            data = getattr(file.ds, var).mean(mean2).groupby(group).var().to_dataframe()#.plot(subplots=True, title='std() over {}'.format(over))\n",
    "            results.append(Distr(var, group, over, data)) "
   ]
  },
  {
   "cell_type": "code",
   "execution_count": null,
   "metadata": {
    "collapsed": true,
    "scrolled": false
   },
   "outputs": [],
   "source": [
    "# [x.data.plot(title='var() over {}'.format(x.over), logy=True) for x in set(results) if x.var=='tm1' and x.along=='lat']"
   ]
  },
  {
   "cell_type": "code",
   "execution_count": null,
   "metadata": {
    "collapsed": true
   },
   "outputs": [],
   "source": [
    "var = 'tm1'\n",
    "mapping = {'tm1':'Temperature', 'month':'Time', 'lon':'Longitude', 'lat':'Latitude', 'lev':'Altitude',\n",
    "           'um1':'Zonal Wind', 'vm1': 'Meridional Wind', 'qm1':'Specific Humidity',\n",
    "           'press': 'Pressure', 'geopot':'Geopotential Height'}"
   ]
  },
  {
   "cell_type": "code",
   "execution_count": null,
   "metadata": {
    "collapsed": true,
    "scrolled": false
   },
   "outputs": [],
   "source": [
    "for var in ['tm1','um1', 'vm1', 'qm1', 'press', 'geopot']:\n",
    "    fig = plt.figure();\n",
    "    fig, axes = plt.subplots(1, 4, sharey=True, figsize=(20,5));\n",
    "    along = 'lat'\n",
    "    tm1_lev = [x for x in set(results) if x.var==var and x.along==along]\n",
    "    df = pd.DataFrame(None, index=tm1_lev[0].data.index)\n",
    "    for run in tm1_lev:\n",
    "        df[mapping[run.over]] = run.data\n",
    "    df.sort_index(axis=1).plot(logy=True, linewidth=3, fontsize=14, ax=axes.flat[0], \n",
    "            title=\"Variance of {} along {}\".format(mapping[var], mapping[along]))\n",
    "    axes.flat[0].set_xlabel(mapping[along])\n",
    "    # plt.savefig('../../../pasc/egu/var-{}-{}.svg'.format(var, along), dpi=96, format='svg',bbox_inches='tight')\n",
    "    # plt.show();\n",
    "    plt.tight_layout()\n",
    "\n",
    "    along = 'lon'\n",
    "    tm1_lev = [x for x in set(results) if x.var==var and x.along==along]\n",
    "    df = pd.DataFrame(None, index=tm1_lev[0].data.index)\n",
    "    for run in tm1_lev:\n",
    "        df[mapping[run.over]] = run.data\n",
    "    df.sort_index(axis=1).plot(ax=axes.flat[1], logy=True, linewidth=3, fontsize=14, \n",
    "            title=\"Variance of {} along {}\".format(mapping[var], mapping[along]))\n",
    "    axes.flat[1].set_xlabel(mapping[along])\n",
    "    # plt.savefig('../../../pasc/egu/var-{}-{}.svg'.format(var, along), dpi=96, format='svg',bbox_inches='tight')\n",
    "    # plt.show();\n",
    "    plt.tight_layout()\n",
    "\n",
    "    along = 'month'\n",
    "    tm1_lev = [x for x in set(results) if x.var==var and x.along==along]\n",
    "    df = pd.DataFrame(None, index=tm1_lev[0].data.index)\n",
    "    for run in tm1_lev:\n",
    "        df[mapping[run.over]] = run.data\n",
    "    df.sort_index(axis=1).plot(ax=axes.flat[2], logy=True, linewidth=3, fontsize=14, \n",
    "            title=\"Variance of {} along {}\".format(mapping[var], mapping[along]))\n",
    "    # plt.savefig('../../../pasc/egu/var-{}-{}.svg'.format(var, along), dpi=96, format='svg',bbox_inches='tight')\n",
    "    # plt.show();\n",
    "    axes.flat[2].set_xlabel(mapping[along]+\" [months]\")\n",
    "    plt.tight_layout()\n",
    "\n",
    "    along = 'lev'\n",
    "    tm1_lev = [x for x in set(results) if x.var==var and x.along==along]\n",
    "    df = pd.DataFrame(None, index=tm1_lev[0].data.index)\n",
    "    for run in tm1_lev:\n",
    "        df[mapping[run.over]] = run.data\n",
    "    df.sort_index(axis=1).plot(ax=axes.flat[3], logy=True, linewidth=3, fontsize=14, \n",
    "            title=\"Variance of {} along {}\".format(mapping[var], mapping[along]))\n",
    "    axes.flat[3].invert_xaxis()\n",
    "    axes.flat[3].set_xlabel(mapping[along])\n",
    "    # plt.savefig('../../../pasc/egu/var-{}-{}.svg'.format(var, along), dpi=96, format='svg',bbox_inches='tight')\n",
    "    plt.tight_layout()\n",
    "    plt.savefig('/home/ucyo/Developments/dissertation/Figures/analysis/variance-global-{}-2000-2013.svg'.format(mapping[var].replace(' ', '-')), dpi=96)\n",
    "    plt.show();"
   ]
  },
  {
   "cell_type": "code",
   "execution_count": null,
   "metadata": {
    "collapsed": true
   },
   "outputs": [],
   "source": [
    "# from matplotlib import pyplot as plt\n",
    "# var = 'um1'\n",
    "# along = 'lat'\n",
    "# tm1_lev = [x for x in set(results) if x.var==var and x.along==along]\n",
    "# df = pd.DataFrame(None, index=tm1_lev[0].data.index)\n",
    "# for run in tm1_lev:\n",
    "#     df[var+'_'+run.over] = run.data\n",
    "# df.plot(logy=True, ylim=(0,1.5*10**3), linewidth=3, fontsize=14, ax=ax1, title=\"Variance of {} along {}\".format(var, along))\n",
    "# # plt.savefig('../../../pasc/egu/var-{}-{}.svg'.format(var, along), dpi=96, format='svg',bbox_inches='tight')\n",
    "# # plt.show();"
   ]
  },
  {
   "cell_type": "code",
   "execution_count": null,
   "metadata": {
    "collapsed": true
   },
   "outputs": [],
   "source": [
    "# from scipy.interpolate import spline\n",
    "# import numpy as np\n",
    "# x_smooth = np.linspace(df.index.min(), df.index.max(), 800)\n",
    "# y_smooth = spline(df.index, df['tm1_month'], x_smooth)\n",
    "# df_n = pd.DataFrame({x:spline(df.index, getattr(df,x), x_smooth) for x in df.columns}, index=x_smooth)\n",
    "# df_n.plot(logy=True, ylim=(0,1.5*10**3), linewidth=3, fontsize=14, title=\"Variance of {} along {}\".format(var, along))"
   ]
  },
  {
   "cell_type": "code",
   "execution_count": null,
   "metadata": {
    "collapsed": true
   },
   "outputs": [],
   "source": [
    "# along = 'lon'\n",
    "# tm1_lev = [x for x in set(results) if x.var==var and x.along==along]\n",
    "# df = pd.DataFrame(None, index=tm1_lev[0].data.index)\n",
    "# for run in tm1_lev:\n",
    "#     df[var+'_'+run.over] = run.data\n",
    "# df.plot(logy=True, ylim=(0,1.5*10**3), linewidth=3, fontsize=14, title=\"Variance of {} along {}\".format(var, along))\n",
    "# # plt.savefig('../../../pasc/egu/var-{}-{}.svg'.format(var, along), dpi=96, format='svg',bbox_inches='tight')\n",
    "# plt.show();"
   ]
  },
  {
   "cell_type": "code",
   "execution_count": null,
   "metadata": {
    "collapsed": true
   },
   "outputs": [],
   "source": [
    "# along = 'month'\n",
    "# tm1_lev = [x for x in set(results) if x.var==var and x.along==along]\n",
    "# df = pd.DataFrame(None, index=tm1_lev[0].data.index)\n",
    "# for run in tm1_lev:\n",
    "#     df[var+'_'+run.over] = run.data\n",
    "# df.plot(logy=True, ylim=(0,1.5*10**3), linewidth=3, fontsize=14, title=\"Variance of {} along {}\".format(var, along))\n",
    "# # plt.savefig('../../../pasc/egu/var-{}-{}.svg'.format(var, along), dpi=96, format='svg',bbox_inches='tight')\n",
    "# plt.show();"
   ]
  },
  {
   "cell_type": "code",
   "execution_count": null,
   "metadata": {
    "collapsed": true
   },
   "outputs": [],
   "source": [
    "# along = 'lev'\n",
    "# tm1_lev = [x for x in set(results) if x.var==var and x.along==along]\n",
    "# df = pd.DataFrame(None, index=tm1_lev[0].data.index)\n",
    "# for run in tm1_lev:\n",
    "#     df[var+'_'+run.over] = run.data\n",
    "# df.plot(logy=True, ylim=(0,1.5*10**3), linewidth=3, fontsize=14, title=\"Variance of {} along {}\".format(var, along))\n",
    "# # plt.savefig('../../../pasc/egu/var-{}-{}.svg'.format(var, along), dpi=96, format='svg',bbox_inches='tight')\n",
    "# plt.show();"
   ]
  },
  {
   "cell_type": "code",
   "execution_count": null,
   "metadata": {
    "collapsed": true
   },
   "outputs": [],
   "source": [
    "\n",
    "# plt.show()"
   ]
  },
  {
   "cell_type": "code",
   "execution_count": null,
   "metadata": {
    "collapsed": true
   },
   "outputs": [],
   "source": []
  }
 ],
 "metadata": {
  "kernelspec": {
   "display_name": "Python 3",
   "language": "python",
   "name": "python3"
  },
  "language_info": {
   "codemirror_mode": {
    "name": "ipython",
    "version": 3
   },
   "file_extension": ".py",
   "mimetype": "text/x-python",
   "name": "python",
   "nbconvert_exporter": "python",
   "pygments_lexer": "ipython3",
   "version": "3.6.2"
  }
 },
 "nbformat": 4,
 "nbformat_minor": 2
}
