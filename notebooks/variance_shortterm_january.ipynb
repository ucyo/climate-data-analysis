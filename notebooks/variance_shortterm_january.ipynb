{
 "cells": [
  {
   "cell_type": "code",
   "execution_count": null,
   "metadata": {
    "collapsed": true
   },
   "outputs": [],
   "source": [
    "%matplotlib inline\n",
    "import numpy as np\n",
    "import matplotlib as mpl\n",
    "import matplotlib.pyplot as plt\n",
    "import seaborn as sns; sns.set()"
   ]
  },
  {
   "cell_type": "code",
   "execution_count": null,
   "metadata": {
    "collapsed": true
   },
   "outputs": [],
   "source": [
    "import xarray"
   ]
  },
  {
   "cell_type": "code",
   "execution_count": null,
   "metadata": {
    "collapsed": true
   },
   "outputs": [],
   "source": [
    "import cartopy.crs as ccrs\n",
    "from mpl_toolkits.axes_grid1 import make_axes_locatable"
   ]
  },
  {
   "cell_type": "code",
   "execution_count": null,
   "metadata": {},
   "outputs": [],
   "source": [
    "# filename = '/home/ucyo/Developments/big_files/IMK_MESSy______20141101_0000_6h02_hl.nc'\n",
    "# ds = xarray.open_dataset(filename)\n",
    "# filename = '/home/ucyo/Developments/dissertation/reanalysis/10h.nc'\n",
    "# ds = xarray.open_dataset(filename)\n",
    "filename = '/home/ucyo/Developments/big_files/RC1SD-base-08__201301_ECHAM5.nc'\n",
    "ds = xarray.open_dataset(filename)\n",
    "mapping = {'tm1':'Temperature', 'month':'Time', 'lon':'Longitude', 'lat':'Latitude', 'lev':'Altitude',\n",
    "           'um1':'Zonal Wind', 'vm1': 'Meridional Wind', 'qm1':'Specific Humidity',\n",
    "           'press': 'Pressure', 'geopot':'Geopotential Height', 'time':'Time'}"
   ]
  },
  {
   "cell_type": "code",
   "execution_count": null,
   "metadata": {},
   "outputs": [],
   "source": [
    "pres = (ds.hyam+ds.hybm*ds.aps).mean(['time','lat','lon']).astype(int)"
   ]
  },
  {
   "cell_type": "code",
   "execution_count": null,
   "metadata": {
    "collapsed": true
   },
   "outputs": [],
   "source": [
    "pos1,pos2,pos3 = 10, 45, -45\n",
    "start = 15\n",
    "ds = ds.isel(lev=slice(start,None,None))\n",
    "pres = pres.isel(lev=slice(start,None,None))\n",
    "#     obj.name = '{} [{}]'.format(mapping[var], obj.attrs['units'])\n"
   ]
  },
  {
   "cell_type": "code",
   "execution_count": null,
   "metadata": {
    "scrolled": true
   },
   "outputs": [],
   "source": [
    "for var in ['tm1', 'um1', 'vm1', 'qm1', 'press', 'geopot']:\n",
    "# for var in ['tm1']:\n",
    "    obj = getattr(ds, var)\n",
    "    obj.name = '{} [{}]'.format(mapping[var], obj.attrs['units'])\n",
    "    dim = 'time'\n",
    "    variance = obj.var(dim)\n",
    "    g = variance.plot(x='lon', y='lat', \n",
    "                          col='lev', col_wrap=5, robust=True, transform=ccrs.PlateCarree(), edgecolor='face',\n",
    "                          subplot_kws={'projection': ccrs.Orthographic(pos1, pos2)})\n",
    "    for i,axs in enumerate(g.axes.ravel()):\n",
    "        axs.coastlines(color='white', linewidth=.5, alpha=.5)\n",
    "        try:\n",
    "            axs.set_title(label=\"lev: {} Pa\".format(int(pres[i])), fontsize=13)\n",
    "        except:\n",
    "            axs.set_title(label=\"lev: Err Pa\")\n",
    "#     g = g.axes[::-1]\n",
    "    g.cbar.set_label(obj.name, fontsize=17)\n",
    "    g.cbar.ax.tick_params(labelsize=16)\n",
    "    plt.savefig('/home/ucyo/Developments/dissertation/Figures/analysis/variance-north-{}-{}-2013-01.jpg'.format(mapping[dim], mapping[var].replace(' ', '-')), dpi=300)\n",
    "    plt.show();\n",
    "    g = variance.plot(x='lon', y='lat', \n",
    "                          col='lev', col_wrap=5, robust=True, transform=ccrs.PlateCarree(), edgecolor='face',\n",
    "                          subplot_kws={'projection': ccrs.Orthographic(pos1, pos3)})\n",
    "    for i,axs in enumerate(g.axes.ravel()):\n",
    "        axs.coastlines(color='white', linewidth=.5, alpha=.5)\n",
    "        try:\n",
    "            axs.set_title(label=\"lev: {} Pa\".format(int(pres[i])))\n",
    "        except:\n",
    "            axs.set_title(label=\"lev: Err Pa\")\n",
    "    g.cbar.set_label(obj.name, fontsize=17)\n",
    "    g.cbar.ax.tick_params(labelsize=16)\n",
    "    plt.savefig('/home/ucyo/Developments/dissertation/Figures/analysis/variance-south-{}-{}-2013-01.jpg'.format(mapping[dim], mapping[var].replace(' ', '-')), dpi=300)\n",
    "    plt.show();\n",
    "    \n",
    "    # across altitude\n",
    "    dim = 'lev'\n",
    "    variance = obj.var(dim)[:-1:3]\n",
    "    g = variance.plot(x='lon', y='lat', \n",
    "                          col='time', col_wrap=6, robust=True, transform=ccrs.PlateCarree(),\n",
    "                          subplot_kws={'projection': ccrs.Orthographic(pos1,pos2)})\n",
    "    for i,axs in enumerate(g.axes.ravel()):\n",
    "        axs.coastlines(color='white', linewidth=.6, alpha=.5)\n",
    "    g.cbar.set_label(obj.name, fontsize=17)\n",
    "    g.cbar.ax.tick_params(labelsize=16)\n",
    "    plt.savefig('/home/ucyo/Developments/dissertation/Figures/analysis/variance-north-{}-{}-2013-01.jpg'.format(mapping[dim], mapping[var].replace(' ', '-')), dpi=300)\n",
    "    plt.show()\n",
    "    g = variance.plot(x='lon', y='lat', \n",
    "                          col='time', col_wrap=6, robust=True, transform=ccrs.PlateCarree(),\n",
    "                          subplot_kws={'projection': ccrs.Orthographic(pos1, pos3)})\n",
    "    for i,axs in enumerate(g.axes.ravel()):\n",
    "        axs.coastlines(color='white', linewidth=.6, alpha=.5)\n",
    "    g.cbar.set_label(obj.name, fontsize=17)\n",
    "    g.cbar.ax.tick_params(labelsize=16)\n",
    "    plt.savefig('/home/ucyo/Developments/dissertation/Figures/analysis/variance-south-{}-{}-2013-01.jpg'.format(mapping[dim], mapping[var].replace(' ', '-')), dpi=300)\n",
    "    plt.show()\n",
    "    \n",
    "    #across lat\n",
    "    dim = 'lat'\n",
    "    variance = obj.var(dim)\n",
    "    g = variance.plot(x='lon', y='time', col='lev', col_wrap=5, robust=True)\n",
    "    for i,axs in enumerate(g.axes.ravel()):\n",
    "        try:\n",
    "            axs.set_title(label=\"lev: {} Pa\".format(int(pres[i])))\n",
    "        except IndexError:\n",
    "            axs.set_title(label=\"Err\")\n",
    "            pass\n",
    "    g.cbar.set_label(obj.name, fontsize=17)\n",
    "    g.cbar.ax.tick_params(labelsize=16)\n",
    "    plt.savefig('/home/ucyo/Developments/dissertation/Figures/analysis/variance-{}-{}-2013-01.jpg'.format(mapping[dim], mapping[var].replace(' ', '-')), dpi=300)\n",
    "    plt.show()\n",
    "    \n",
    "    #across lon\n",
    "    dim = 'lon'\n",
    "    variance = obj.var(dim)\n",
    "    g = variance.plot(x='lat', y='time', col='lev', col_wrap=5, robust=True)\n",
    "    for i,axs in enumerate(g.axes.ravel()):\n",
    "        try:\n",
    "            axs.set_title(label=\"lev: {} Pa\".format(int(pres[i])))\n",
    "        except IndexError:\n",
    "            axs.set_title(label=\"Err\")\n",
    "            pass\n",
    "    g.cbar.set_label(obj.name, fontsize=17)\n",
    "    g.cbar.ax.tick_params(labelsize=16)\n",
    "    plt.savefig('/home/ucyo/Developments/dissertation/Figures/analysis/variance-{}-{}-2013-01.jpg'.format(mapping[dim], mapping[var].replace(' ', '-')), dpi=300)\n",
    "    plt.show()"
   ]
  },
  {
   "cell_type": "code",
   "execution_count": null,
   "metadata": {},
   "outputs": [],
   "source": [
    "\"Done\""
   ]
  },
  {
   "cell_type": "code",
   "execution_count": null,
   "metadata": {
    "collapsed": true
   },
   "outputs": [],
   "source": []
  }
 ],
 "metadata": {
  "kernelspec": {
   "display_name": "Python 3",
   "language": "python",
   "name": "python3"
  },
  "language_info": {
   "codemirror_mode": {
    "name": "ipython",
    "version": 3
   },
   "file_extension": ".py",
   "mimetype": "text/x-python",
   "name": "python",
   "nbconvert_exporter": "python",
   "pygments_lexer": "ipython3",
   "version": "3.6.2"
  }
 },
 "nbformat": 4,
 "nbformat_minor": 2
}
