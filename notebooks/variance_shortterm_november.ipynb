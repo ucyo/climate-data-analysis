{
 "cells": [
  {
   "cell_type": "code",
   "execution_count": null,
   "metadata": {
    "collapsed": true
   },
   "outputs": [],
   "source": [
    "%matplotlib inline\n",
    "import numpy as np\n",
    "import matplotlib as mpl\n",
    "import matplotlib.pyplot as plt\n",
    "import seaborn as sns; sns.set()"
   ]
  },
  {
   "cell_type": "code",
   "execution_count": null,
   "metadata": {
    "collapsed": true,
    "scrolled": true
   },
   "outputs": [],
   "source": [
    "# rng = np.random.RandomState(1)\n",
    "# X = np.dot(rng.rand(2, 2), rng.randn(2, 200)).T\n",
    "# plt.scatter(X[:, 0], X[:, 1])\n",
    "# plt.axis('equal');"
   ]
  },
  {
   "cell_type": "code",
   "execution_count": null,
   "metadata": {
    "collapsed": true
   },
   "outputs": [],
   "source": [
    "# from sklearn.decomposition import PCA\n",
    "# pca = PCA(n_components=2)\n",
    "# pca.fit(X)"
   ]
  },
  {
   "cell_type": "code",
   "execution_count": null,
   "metadata": {
    "collapsed": true
   },
   "outputs": [],
   "source": [
    "# print(pca.components_)"
   ]
  },
  {
   "cell_type": "code",
   "execution_count": null,
   "metadata": {
    "collapsed": true
   },
   "outputs": [],
   "source": [
    "# print(pca.explained_variance_)\n",
    "\n"
   ]
  },
  {
   "cell_type": "code",
   "execution_count": null,
   "metadata": {
    "collapsed": true
   },
   "outputs": [],
   "source": [
    "# print(pca.explained_variance_ratio_)"
   ]
  },
  {
   "cell_type": "code",
   "execution_count": null,
   "metadata": {
    "collapsed": true
   },
   "outputs": [],
   "source": [
    "\n",
    "\n",
    "# # plot data\n",
    "# plt.scatter(X[:, 0], X[:, 1], alpha=0.2)\n",
    "# for length, vector in zip(pca.explained_variance_, pca.components_):\n",
    "#     v = vector * 3 * np.sqrt(length)\n",
    "#     draw_vector(pca.mean_, pca.mean_ + v)\n",
    "# plt.axis('equal');"
   ]
  },
  {
   "cell_type": "code",
   "execution_count": null,
   "metadata": {
    "collapsed": true
   },
   "outputs": [],
   "source": [
    "# plt.plot(np.cumsum(pca.explained_variance_ratio_))\n",
    "# plt.xlabel('number of components')\n",
    "# plt.ylabel('cumulative explained variance');"
   ]
  },
  {
   "cell_type": "markdown",
   "metadata": {},
   "source": [
    "# Transformation"
   ]
  },
  {
   "cell_type": "code",
   "execution_count": null,
   "metadata": {
    "collapsed": true
   },
   "outputs": [],
   "source": [
    "# pca = PCA(n_components=1)\n",
    "# pca.fit(X)\n",
    "# X_pca = pca.transform(X)\n",
    "# print(\"original shape:   \", X.shape)\n",
    "# print(\"transformed shape:\", X_pca.shape)"
   ]
  },
  {
   "cell_type": "code",
   "execution_count": null,
   "metadata": {
    "collapsed": true
   },
   "outputs": [],
   "source": [
    "# X_new = pca.inverse_transform(X_pca)\n",
    "# plt.scatter(X[:, 0], X[:, 1], alpha=0.2)\n",
    "# plt.scatter(X_new[:, 0], X_new[:, 1], alpha=0.8)\n",
    "# plt.axis('equal');"
   ]
  },
  {
   "cell_type": "markdown",
   "metadata": {},
   "source": [
    "# Environmental Data and Global variance"
   ]
  },
  {
   "cell_type": "code",
   "execution_count": null,
   "metadata": {
    "collapsed": true
   },
   "outputs": [],
   "source": [
    "import xarray"
   ]
  },
  {
   "cell_type": "code",
   "execution_count": null,
   "metadata": {
    "collapsed": true
   },
   "outputs": [],
   "source": [
    "import cartopy.crs as ccrs"
   ]
  },
  {
   "cell_type": "code",
   "execution_count": null,
   "metadata": {
    "collapsed": true
   },
   "outputs": [],
   "source": [
    "filename = '/home/ucyo/Developments/big_files/IMK_MESSy______20141101_0000_6h02_hl.nc'\n",
    "ds = xarray.open_dataset(filename)\n",
    "mapping = {'tm1':'Temperature', 'month':'Time', 'lon':'Longitude', 'lat':'Latitude', 'lev':'Altitude',\n",
    "           'um1':'Zonal Wind', 'vm1': 'Meridional Wind', 'qm1':'Specific Humidity',\n",
    "           'press': 'Pressure', 'geopot':'Geopotential Height', 'time':'Time'}"
   ]
  },
  {
   "cell_type": "code",
   "execution_count": null,
   "metadata": {
    "scrolled": false
   },
   "outputs": [],
   "source": [
    "pos1,pos2,pos3 = 10, 45, -45\n",
    "\n",
    "# for var in ['tm1', 'um1', 'vm1', 'qm1', 'press', 'geopot']:\n",
    "for var in ['tm1']:\n",
    "    # preprocessing\n",
    "    obj = getattr(ds, var)[:,:,:,:].rename({'lev_2':'lev'})\n",
    "    obj.name = '{} [{}]'.format(mapping[var], obj.attrs['units'])\n",
    "    obj = obj.sortby('lev')\n",
    "    obj.lev.attrs['positive'] = 'up'\n",
    "    \n",
    "    # across time\n",
    "    dim = 'time'\n",
    "    variance = obj.var(dim)\n",
    "    g = variance.plot(x='lon', y='lat', \n",
    "                          col='lev', col_wrap=5, robust=True, transform=ccrs.PlateCarree(), edgecolor='face',\n",
    "                          subplot_kws={'projection': ccrs.Orthographic(pos1, pos2)})\n",
    "    for i,axs in enumerate(g.axes.ravel()):\n",
    "        axs.coastlines(color='white', linewidth=.5, alpha=.5)\n",
    "        axs.set_title(label=\"lev: {} Pa\".format(int(variance['lev'].data[i])))\n",
    "    g = g.axes[::-1]\n",
    "    #plt.savefig('/home/ucyo/Developments/dissertation/Figures/analysis/variance-north-{}-{}-2014-11.jpg'.format(mapping[dim], mapping[var].replace(' ', '-')), dpi=300)\n",
    "    plt.show();\n",
    "    g = variance.plot(x='lon', y='lat', \n",
    "                          col='lev', col_wrap=5, robust=True, transform=ccrs.PlateCarree(), edgecolor='face',\n",
    "                          subplot_kws={'projection': ccrs.Orthographic(pos1, pos3)})\n",
    "    for i,axs in enumerate(g.axes.ravel()):\n",
    "        axs.coastlines(color='white', linewidth=.5, alpha=.5)\n",
    "        axs.set_title(label=\"lev: {} Pa\".format(int(variance['lev'].data[i])))\n",
    "    #plt.savefig('/home/ucyo/Developments/dissertation/Figures/analysis/variance-south-{}-{}-2014-11.jpg'.format(mapping[dim], mapping[var].replace(' ', '-')), dpi=300)\n",
    "    plt.show();\n",
    "    \n",
    "    # across altitude\n",
    "    dim = 'lev'\n",
    "    variance = obj.var(dim).isel(time=slice(None,None,4))\n",
    "    g = variance.plot(x='lon', y='lat', \n",
    "                          col='time', col_wrap=6, robust=True, transform=ccrs.PlateCarree(),\n",
    "                          subplot_kws={'projection': ccrs.Orthographic(pos1,pos2)})\n",
    "    for i,axs in enumerate(g.axes.ravel()):\n",
    "        axs.coastlines(color='white', linewidth=.6, alpha=.5)\n",
    "    #plt.savefig('/home/ucyo/Developments/dissertation/Figures/analysis/variance-north-{}-{}-2014-11.jpg'.format(mapping[dim], mapping[var].replace(' ', '-')), dpi=300)\n",
    "    plt.show()\n",
    "    g = variance.plot(x='lon', y='lat', \n",
    "                          col='time', col_wrap=6, robust=True, transform=ccrs.PlateCarree(),\n",
    "                          subplot_kws={'projection': ccrs.Orthographic(pos1, pos3)})\n",
    "    for i,axs in enumerate(g.axes.ravel()):\n",
    "        axs.coastlines(color='white', linewidth=.6, alpha=.5)\n",
    "    #plt.savefig('/home/ucyo/Developments/dissertation/Figures/analysis/variance-south-{}-{}-2014-11.jpg'.format(mapping[dim], mapping[var].replace(' ', '-')), dpi=300)\n",
    "    plt.show()\n",
    "    \n",
    "    #across lat\n",
    "    dim = 'lat'\n",
    "    variance = obj.var(dim)\n",
    "    g = variance.plot(x='lon', y='time', col='lev', col_wrap=5, robust=True)\n",
    "    for i,axs in enumerate(g.axes.ravel()):\n",
    "        try:\n",
    "            axs.set_title(label=\"lev: {} Pa\".format(int(variance['lev'].data[i])))\n",
    "        except IndexError:\n",
    "            axs.set_title(label=\"Err\")\n",
    "            pass\n",
    "    #plt.savefig('/home/ucyo/Developments/dissertation/Figures/analysis/variance-{}-{}-2014-11.jpg'.format(mapping[dim], mapping[var].replace(' ', '-')), dpi=300)\n",
    "    plt.show()\n",
    "    \n",
    "    #across lon\n",
    "    dim = 'lon'\n",
    "    variance = obj.var(dim)\n",
    "    g = variance.plot(x='lat', y='time', col='lev', col_wrap=5, robust=True)\n",
    "    for i,axs in enumerate(g.axes.ravel()):\n",
    "        try:\n",
    "            axs.set_title(label=\"lev: {} Pa\".format(int(variance['lev'].data[i])))\n",
    "        except IndexError:\n",
    "            axs.set_title(label=\"Err\")\n",
    "            pass\n",
    "    #plt.savefig('/home/ucyo/Developments/dissertation/Figures/analysis/variance-{}-{}-2014-11.jpg'.format(mapping[dim], mapping[var].replace(' ', '-')), dpi=300)\n",
    "    plt.show()"
   ]
  },
  {
   "cell_type": "code",
   "execution_count": null,
   "metadata": {
    "collapsed": true
   },
   "outputs": [],
   "source": [
    "# dim = 'time'\n",
    "# variance = obj.var(dim)\n",
    "# # print(obj.lev.attrs)\n",
    "# single = variance.sel(lev=6.5e+04, method='nearest')\n",
    "# ax = plt.axes(projection=ccrs.Orthographic(-80, 35))\n",
    "# single.plot(ax=ax, transform=ccrs.PlateCarree(), edgecolor='face')\n",
    "# ax.set_global(); ax.coastlines(color='yellow')\n",
    "# # plt.savefig('../../../pasc/egu/tm1-example.svg', dpi=96, format='svg')\n",
    "# plt.show();\n",
    "\n",
    "# ax2 = plt.axes(projection=ccrs.Orthographic(100, -35))\n",
    "# single.plot(ax=ax2, transform=ccrs.PlateCarree())\n",
    "# ax2.set_global(); ax2.coastlines(color='gray')\n",
    "# plt.show()"
   ]
  },
  {
   "cell_type": "markdown",
   "metadata": {},
   "source": [
    "# Across the globe"
   ]
  },
  {
   "cell_type": "code",
   "execution_count": null,
   "metadata": {
    "collapsed": true
   },
   "outputs": [],
   "source": [
    "ds"
   ]
  },
  {
   "cell_type": "code",
   "execution_count": null,
   "metadata": {
    "collapsed": true,
    "scrolled": false
   },
   "outputs": [],
   "source": [
    "# dim = 'time'\n",
    "# variance = obj.var(dim)\n",
    "# g = variance.plot(x='lon', y='lat', \n",
    "#                       col='lev', col_wrap=5, robust=True, transform=ccrs.PlateCarree(), edgecolor='face',\n",
    "#                       subplot_kws={'projection': ccrs.Orthographic(pos1, pos2)})\n",
    "# # plt.gcf().suptitle('asd', y=1.05, x=.4)\n",
    "# for i,axs in enumerate(g.axes.ravel()):\n",
    "#     axs.coastlines(color='white', linewidth=.5, alpha=.5)\n",
    "#     axs.set_title(label=\"lev: {} Pa\".format(int(variance['lev'].data[i])))\n",
    "# g = g.axes[::-1]\n",
    "# plt.show();\n",
    "# g = variance.plot(x='lon', y='lat', \n",
    "#                       col='lev', col_wrap=5, robust=True, transform=ccrs.PlateCarree(), edgecolor='face',\n",
    "#                       subplot_kws={'projection': ccrs.Orthographic(pos1, pos3)})\n",
    "# for i,axs in enumerate(g.axes.ravel()):\n",
    "#     axs.coastlines(color='white', linewidth=.5, alpha=.5)\n",
    "#     axs.set_title(label=\"lev: {} Pa\".format(int(variance['lev'].data[i])))\n",
    "# plt.show();"
   ]
  },
  {
   "cell_type": "code",
   "execution_count": null,
   "metadata": {
    "collapsed": true,
    "scrolled": true
   },
   "outputs": [],
   "source": [
    "# dim = 'lev'\n",
    "# variance = obj.var(dim).isel(time=slice(None,None,4))\n",
    "# g = variance.plot(x='lon', y='lat', \n",
    "#                       col='time', col_wrap=6, robust=True, transform=ccrs.PlateCarree(),\n",
    "#                       subplot_kws={'projection': ccrs.Orthographic(pos1,pos2)})\n",
    "# for i,axs in enumerate(g.axes.ravel()):\n",
    "#     axs.coastlines(color='white', linewidth=.6, alpha=.5)\n",
    "# plt.show()\n",
    "# g = variance.plot(x='lon', y='lat', \n",
    "#                       col='time', col_wrap=6, robust=True, transform=ccrs.PlateCarree(),\n",
    "#                       subplot_kws={'projection': ccrs.Orthographic(pos1, pos3)})\n",
    "# for i,axs in enumerate(g.axes.ravel()):\n",
    "#     axs.coastlines(color='white', linewidth=.6, alpha=.5)\n",
    "# plt.show()"
   ]
  },
  {
   "cell_type": "code",
   "execution_count": null,
   "metadata": {
    "collapsed": true,
    "scrolled": true
   },
   "outputs": [],
   "source": [
    "# dim = 'lat'\n",
    "# variance = obj.var(dim)\n",
    "# g = variance.plot(x='lon', y='time', col='lev', col_wrap=5, robust=True)\n",
    "# for i,axs in enumerate(g.axes.ravel()):\n",
    "#     try:\n",
    "#         axs.set_title(label=\"lev: {} Pa\".format(int(variance['lev'].data[i])))\n",
    "#     except IndexError:\n",
    "#         axs.set_title(label=\"Err\")\n",
    "#         pass\n",
    "# plt.show()"
   ]
  },
  {
   "cell_type": "code",
   "execution_count": null,
   "metadata": {
    "collapsed": true,
    "scrolled": true
   },
   "outputs": [],
   "source": [
    "# dim = 'lon'\n",
    "# variance = obj.var(dim)\n",
    "# g = variance.plot(x='lat', y='time', col='lev', col_wrap=5, robust=True)\n",
    "# for i,axs in enumerate(g.axes.ravel()):\n",
    "#     try:\n",
    "#         axs.set_title(label=\"lev: {} Pa\".format(int(variance['lev'].data[i])))\n",
    "#     except IndexError:\n",
    "#         axs.set_title(label=\"Err\")\n",
    "#         pass\n",
    "# plt.show()"
   ]
  },
  {
   "cell_type": "markdown",
   "metadata": {},
   "source": [
    "# As line plots"
   ]
  },
  {
   "cell_type": "code",
   "execution_count": null,
   "metadata": {
    "collapsed": true
   },
   "outputs": [],
   "source": []
  }
 ],
 "metadata": {
  "kernelspec": {
   "display_name": "Python 3",
   "language": "python",
   "name": "python3"
  },
  "language_info": {
   "codemirror_mode": {
    "name": "ipython",
    "version": 3
   },
   "file_extension": ".py",
   "mimetype": "text/x-python",
   "name": "python",
   "nbconvert_exporter": "python",
   "pygments_lexer": "ipython3",
   "version": "3.6.2"
  }
 },
 "nbformat": 4,
 "nbformat_minor": 2
}
